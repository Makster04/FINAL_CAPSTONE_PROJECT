{
 "cells": [
  {
   "cell_type": "markdown",
   "metadata": {},
   "source": [
    "### 📦 Core Indicator Themes & Timing  \n",
    "\n",
    "| Theme               | Indicator                                      | Timing     |\n",
    "|---------------------|------------------------------------------------|------------|\n",
    "| **Confidence**       | Consumer Confidence                            | Leading    |\n",
    "|                     | Business Confidence                            | Leading    |\n",
    "| **Labor Market**     | Total Jobs                                     | Coincident |\n",
    "|                     | Unemployment Rate                              | Lagging    |\n",
    "|                     | Labor Force Participation                      | Coincident |\n",
    "| **Inflation**        | Consumer Price Index (CPI)                     | Lagging    |\n",
    "|                     | Producer Price Index (PPI)                     | Leading    |\n",
    "|                     | Crude Oil Prices                                | Leading    |\n",
    "| **Interest Rates**   | Fed Funds Rate                                 | Lagging    |\n",
    "|                     | Baa-Aaa Treasury Constant Maturity Rate        | Mixed      |\n",
    "| **Real Economy**     | Housing Starts                                 | Leading    |\n",
    "|                     | Durable Goods Orders                           | Leading    |\n",
    "|                     | Capacity Utilization                           | Coincident |\n",
    "| **Production**       | Industrial Production                          | Coincident |\n",
    "| **Fiscal & Credit**  | Deficit as % of GDP                            | Lagging    |\n",
    "|                     | Baa-Aaa Corporate Bond Yield                   | Lagging    |\n",
    "|                     | Credit Conditions Subindex                      | Lagging    |\n",
    "| **Liquidity**        | Real M2 Stocks                                 | Lagging    |\n",
    "| **Sales/Inventory**  | Business Inventories                           | Lagging    |\n",
    "|                     | Retail Sales                                   | Coincident |\n",
    "| **Volatility**       | VIX (Volatility Index)                         | Leading    |"
   ]
  }
 ],
 "metadata": {
  "language_info": {
   "name": "python"
  }
 },
 "nbformat": 4,
 "nbformat_minor": 2
}

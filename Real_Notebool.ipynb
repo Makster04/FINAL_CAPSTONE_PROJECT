{
 "cells": [
  {
   "cell_type": "markdown",
   "metadata": {},
   "source": [
    "### 📦 Core Indicator Themes & Timing  \n",
    "\n",
    "| Theme                  | Indicators                                             | Timing |\n",
    "|------------------------|--------------------------------------------------------|--------|\n",
    "| **Confidence**         | Consumer & Business Confidence                         | Leading |\n",
    "| **Labor Market**       | Total Jobs, Unemployment Rate, Labor Force Participation | Mixed |\n",
    "| **Inflation**          | CPI, PPI                                               | Mixed |\n",
    "| **Interest Rates**     | Fed Funds Rate, Baa-Aaa Treasury Constant Maturity Rate | Mixed |\n",
    "| **Real Economy**       | Housing Starts, Durable Goods Orders, Capacity Utilization | Mixed |\n",
    "| **Production**         | Industrial Production                                  | Coincident |\n",
    "| **Fiscal & Credit**    | Deficit % GDP, Baa-Aaa Corporate Bond Yield            | Lagging |\n",
    "| **Liquidity**          | Real M2 Stocks                                         | Lagging |\n",
    "| **Sales/Inventory**    | Business Inventories, Retail Sales                     | Mixed |\n",
    "| **Volatility**         | VIX (Volatility Index)                                 | Leading |"
   ]
  }
 ],
 "metadata": {
  "language_info": {
   "name": "python"
  }
 },
 "nbformat": 4,
 "nbformat_minor": 2
}
